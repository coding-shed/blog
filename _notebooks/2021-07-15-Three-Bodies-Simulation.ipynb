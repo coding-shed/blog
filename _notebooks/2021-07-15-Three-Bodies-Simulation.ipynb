{
 "cells": [
  {
   "cell_type": "markdown",
   "id": "016b2332",
   "metadata": {},
   "source": [
    "# \"Simulating trajectories of 3 celestial bodies\"\n",
    "> \"Using numerical integration to simulate path of moving celestial bodies.\"\n",
    "\n",
    "- toc:true- branch: master\n",
    "- badges: true\n",
    "- comments: true\n",
    "- author: Michał Strzałkowski\n",
    "- categories: [physics, scipy, python]"
   ]
  },
  {
   "cell_type": "markdown",
   "id": "b8eae0b9",
   "metadata": {},
   "source": [
    "### Simulating trajectories of 3 celestial bodies\n",
    "<p style='text-align: justify;'> Today we are going to simulate paths of 3 moving celestial bodies. To do so, we don't need maths or astro-physics degree. In today's day and age, world class computational tools are at out fingertips. We're going to leverage them to solve what hundred of years ago was deemed unsolvable.</p>\n",
    "\n",
    "<br/><br/>\n",
    "### Universal Law of Gravity\n",
    "<p style='text-align: justify;'>\n",
    "The following two equations, along with godlike ingenuity, allowed Issac Newton to determine orbital position of celestial bodies at any given point in time. First is the Universal Law of Gravity, which states that gravitational force between two bodies is proportional to their masses and inversely proportional to the square of their distance. </p>\n",
    "\n",
    "\\begin{aligned}\n",
    "{F} = {G} \\times \\frac{m_1 m_2}{{r}^2}\n",
    "\\end{aligned}\n",
    "<br/><br/>\n",
    "<p style='text-align: justify;'>\n",
    "Second equation is Newtown's Second Law of Motion. It tells us that with constant mass, net force applied to a body yields proportional acceleration.</p>\n",
    "\n",
    "\\begin{aligned}\n",
    "{F} = {m_1} \\times {a}\n",
    "\\end{aligned}\n",
    "<br/><br/>\n",
    "<p style='text-align: justify;'>\n",
    "Combining those two facts i.e. equating those two definitions of force, gives a way to infer about object acceleration. But since we want to follow objects path in 3 dimensions, we have to turn above equation into vector form. Force and acceleration both have direction. In order to reflect that, we can add unit vector (with a hat) that points from body m<sub>1</sub> towards body m<sub>2</sub></p>\n",
    "\n",
    "\\begin{aligned}\n",
    "\\vec{a} = {G} \\times \\frac{m_2}{r^2} \\hat{r}\n",
    "\\end{aligned}\n",
    "<br/><br/>\n",
    "<p style='text-align: justify;'>\n",
    "And since unit vector is defined as vector divided by its norm, we can re-write the above into:</p>\n",
    "\n",
    "\\begin{aligned}\n",
    "\\vec{a} = {G} \\times \\frac{m_2}{r^3} \\vec{r}_{12}\n",
    "\\end{aligned}\n",
    "<br/><br/>\n",
    "<p style='text-align: justify;'>\n",
    "Subscript \"12\" means \"from 1 towards 2\" to describe vector's direction.</p>\n",
    "\n",
    "<br/><br/>\n",
    "### Working out the position\n",
    "<p style='text-align: justify;'>\n",
    "Now that we have acceleration, we can also derive body velocities and position. Acceleration is a derivative of velocity, and velocity is a derviative of position with respect to time. So, from acceleration we need to take two steps down: to velocity, and then to position. This can be expressed with two first order differential equations:</p>\n",
    "\n",
    "\\begin{aligned}\n",
    "\\frac{\\partial \\vec{v}_{i}}{\\partial t} & = {G} \\times \\frac{m_j}{r^3_{ij}} \\vec{r}_{ij} \\\\\n",
    "\\frac{\\partial \\vec{r}_{i}}{\\partial t} & = \\vec{v}_{i}\n",
    "\\end{aligned}\n",
    "<br/><br/>\n",
    "\n",
    "\n",
    "### Introducing third celestial body\n",
    "\n",
    "<p style='text-align: justify;'>\n",
    "Above equations are fine for systems with 2 bodies, not three. We still need to factor in the effect the third body has on both first and second body. With each body in question, the net exerted force will be the sum of forces from two remaining bodies. For example, acceleration of body 1 can be expressed as:</p>\n",
    "\n",
    "\\begin{aligned}\n",
    "\\frac{\\partial \\vec{v}_{1}}{\\partial t} & = \\frac{m_2}{r^3_{12}} \\vec{r}_{12} + \\frac{m_3}{r^3_{13}} \\vec{r}_{13} \\\\\n",
    "\\end{aligned}\n",
    "<br/><br/>\n",
    "\n",
    "### Coding the equations\n",
    "<p style='text-align: justify;'>\n",
    "Now we are fully equiped to code a set of 3 acceleration equations. First, let's import all required packages. </p>"
   ]
  },
  {
   "cell_type": "code",
   "execution_count": 1,
   "id": "a3072a4c",
   "metadata": {},
   "outputs": [],
   "source": [
    "import scipy as sci\n",
    "import matplotlib.pyplot as plt\n",
    "from mpl_toolkits.mplot3d import Axes3D\n",
    "from matplotlib import animation\n",
    "import numpy as np\n",
    "import pandas as pd\n",
    "import scipy.integrate"
   ]
  },
  {
   "cell_type": "markdown",
   "id": "82abe8df",
   "metadata": {},
   "source": [
    "<p style='text-align: justify;'>Function <b>equations_system</b> will accept state vector <b>w</b>, which comprises position coordinates of three bodies followed by velocity vectors, 18 floating point values in total: (3 bodies x 3 positions) + (3 bodies x 3 velocities) = 18. You can see that I skipped G constant in each acceleration equation. That's because we want all parameters provided to integrator to have similator magnitudes close to unity. This will make numerical methods work much better. One other solution would be to scale all of the parameters by some reference quantities to keep relative differences between them. But here, we are not mimicking any real celestial system. It's a toy example with completely arbitrary, random values.</p>"
   ]
  },
  {
   "cell_type": "code",
   "execution_count": 9,
   "id": "f65326c1",
   "metadata": {},
   "outputs": [],
   "source": [
    "def equations_system(w,t,m1,m2,m3):\n",
    "    r1, r2, r3 = w[:3], w[3:6], w[6:9]\n",
    "    v1, v2, v3 = w[9:12], w[12:15], w[15:18]\n",
    "\n",
    "    r12=np.linalg.norm(r2-r1)\n",
    "    r13=np.linalg.norm(r3-r1)\n",
    "    r23=np.linalg.norm(r3-r2)\n",
    "    \n",
    "    a1=m2/r12**3*(r2-r1)+m3/r13**3*(r3-r1)\n",
    "    a2=m1/r12**3*(r1-r2)+m3/r23**3*(r3-r2)\n",
    "    a3=m1/r13**3*(r1-r3)+m2/r23**3*(r2-r3)\n",
    "\n",
    "    r_derivs=np.concatenate((v1,v2,v3))\n",
    "    v_derivs=np.concatenate((a1,a2,a3))\n",
    "    derivs=np.concatenate((r_derivs,v_derivs))\n",
    "    \n",
    "    return derivs"
   ]
  },
  {
   "cell_type": "markdown",
   "id": "08d00807",
   "metadata": {},
   "source": [
    "<p style='text-align: justify;'>Next, we calculate magnitudes of distance vectors, remembering that vector AB from A to B is obtained by substracting initial point from terminal point: B - A. That's why r12 is defined as magnitude of r2-r1. Finally, we substitute state vector with updated values - what previosly was positions, now becomes velocity, and what was velocity is substituted with acceleration.</p>\n",
    "\n",
    "\n",
    "<p style='text-align: justify;'>System of equation can now be fed into our main function that does all the work i.e. numerical integration along every time step provided. This is done by <b>odeint</b> function which requires: initial parameters (starting points), and amount of timesteps to perform calculations. Snapshot of positions at each timestep will create our trajectories.</p>"
   ]
  },
  {
   "cell_type": "code",
   "execution_count": 3,
   "id": "8270f06a",
   "metadata": {},
   "outputs": [],
   "source": [
    "def solve_equations(equations_system, initial_parameters, time_span, constants):\n",
    "    solution=sci.integrate.odeint(equations_system,\n",
    "                                        initial_parameters,\n",
    "                                        time_span,\n",
    "                                        args=constants)\n",
    "    return solution"
   ]
  },
  {
   "cell_type": "markdown",
   "id": "c1cc0fe1",
   "metadata": {},
   "source": [
    "<p style='text-align: justify;'>Now we can initialise starting parameters i.e. individual masses of objects, positions and velocities along with timespan. Last two lines create dataframe from solution set and generate gif file visualizing the bodies trajectories. For clarity the visualization functions are put at the end of the blogpost. </p>"
   ]
  },
  {
   "cell_type": "code",
   "execution_count": null,
   "id": "a8241103",
   "metadata": {},
   "outputs": [],
   "source": [
    "m1=1.1\n",
    "m2=0.907\n",
    "m3=1.2\n",
    "\n",
    "r1=np.random.uniform(low=-2, high=2, size=(3,))\n",
    "r2=np.random.uniform(low=-2, high=2, size=(3,))\n",
    "r3=np.random.uniform(low=-2, high=2, size=(3,))\n",
    "\n",
    "v1=np.random.uniform(low=-0.5, high=0.5, size=(3,))\n",
    "v2=np.random.uniform(low=-0.5, high=0.5, size=(3,))\n",
    "v3=np.random.uniform(low=-0.5, high=0.5, size=(3,))\n",
    "\n",
    "initial_parameters = np.array([r1,r2,r3,v1,v2,v3]).flatten()\n",
    "time_span=np.linspace(0,30,700)\n",
    "constants = (m1,m2,m3)\n",
    "\n",
    "solution = solve_equations(equations_system, initial_parameters, time_span, constants)\n",
    "df = build_dataframe(solution)\n",
    "create_animation(f'animation_{num}.gif', df)"
   ]
  },
  {
   "cell_type": "markdown",
   "id": "e4051544",
   "metadata": {},
   "source": [
    "### Sample trajectories\n",
    "<p style='text-align: justify;'>Below are sample trajectories with random initial parameters that I've found interesting. Feel free to play around with parameters - or even reproduce real-world 3 body systems!</p>"
   ]
  },
  {
   "cell_type": "markdown",
   "id": "4156fd4f",
   "metadata": {},
   "source": [
    "![](animation16.gif)"
   ]
  },
  {
   "cell_type": "markdown",
   "id": "fe6c84f2",
   "metadata": {},
   "source": [
    "### Final remark\n",
    "<p style='text-align: justify;'>There is a strong simplifying assumption made in the simulation. Not only we are assuming that gravitational center of mass is a infinitisemaly small point, but also that the entire object is this small point. This means we are assuming all bodies have volume equal 0. Under such assumption, the bodies will never collide. And from the animatrions above it is clear they should multiple times.</p>"
   ]
  },
  {
   "cell_type": "markdown",
   "id": "ba87a19c",
   "metadata": {},
   "source": [
    "![](animation9.gif)"
   ]
  },
  {
   "cell_type": "markdown",
   "id": "3f2821ce",
   "metadata": {},
   "source": [
    "![](animation54.gif)"
   ]
  },
  {
   "cell_type": "markdown",
   "id": "46d8f75d",
   "metadata": {},
   "source": [
    "![](animation58.gif)"
   ]
  },
  {
   "cell_type": "markdown",
   "id": "71df8312",
   "metadata": {},
   "source": [
    "### Code appendix\n",
    "\n",
    "<p style='text-align: justify;'>\n",
    "\n",
    "</p>"
   ]
  },
  {
   "cell_type": "code",
   "execution_count": 4,
   "id": "3c9b72ff",
   "metadata": {},
   "outputs": [],
   "source": [
    "def build_dataframe(solution):\n",
    "    data = np.array([solution[:,:3], solution[:,3:6], solution[:,6:9]])\n",
    "    df = pd.DataFrame({})\n",
    "    for body in range(3):\n",
    "        for dimension in range(3):\n",
    "            df[f'body{body}_dim{dimension}'] = data[body][:,dimension]\n",
    "    return df\n",
    "\n",
    "def update_graph(num, data, graph1, graph2, graph3, dots1, dots2, dots3):\n",
    "    graph1.set_data(df.body0_dim0[:num+1], df.body0_dim1[:num+1])\n",
    "    graph1.set_3d_properties(df.body0_dim2[:num+1])\n",
    "    \n",
    "    graph2.set_data(df.body1_dim0[:num+1], df.body1_dim1[:num+1])\n",
    "    graph2.set_3d_properties(df.body1_dim2[:num+1])\n",
    "    \n",
    "    graph3.set_data(df.body2_dim0[:num+1], df.body2_dim1[:num+1])\n",
    "    graph3.set_3d_properties(df.body2_dim2[:num+1])\n",
    "    \n",
    "    dots1.set_data(df.body0_dim0[num], df.body0_dim1[num])\n",
    "    dots1.set_3d_properties(df.body0_dim2[num])\n",
    "    \n",
    "    dots2.set_data(df.body1_dim0[num], df.body1_dim1[num])\n",
    "    dots2.set_3d_properties(df.body1_dim2[num])\n",
    "    \n",
    "    dots3.set_data(df.body2_dim0[num], df.body2_dim1[num])\n",
    "    dots3.set_3d_properties(df.body2_dim2[num])\n",
    "    return graph1, graph2, graph3, dots1, dots2, dots3,\n",
    "\n",
    "def define_ax(ax):\n",
    "    ax.set_xlim3d(-2, 2)\n",
    "    ax.set_ylim3d(-3, 1)\n",
    "    ax.set_zlim3d(-3, 1)\n",
    "    \n",
    "    x, y, z = 10*(np.random.rand(3,1000)-0.5)\n",
    "    ax.scatter(x, y, z, s=0.2, c='w')\n",
    "    \n",
    "    ax.set_facecolor('black') \n",
    "    ax.grid(False) \n",
    "    ax.w_xaxis.pane.fill = False\n",
    "    ax.w_yaxis.pane.fill = False\n",
    "    ax.w_zaxis.pane.fill = False\n",
    "\n",
    "def create_animation(file_pathname, df):\n",
    "    fig=plt.figure(figsize=(10,10))\n",
    "    fig.set_facecolor('black')\n",
    "\n",
    "    ax = Axes3D(fig)\n",
    "    define_ax(ax)\n",
    "    \n",
    "    graph1, = ax.plot(df.body0_dim0, df.body0_dim1, df.body0_dim2, alpha=0.35, color=\"#FFFFF0\")\n",
    "    graph2, = ax.plot(df.body1_dim0, df.body1_dim1, df.body1_dim2, alpha=0.35, color=\"#FFFFCB\")\n",
    "    graph3, = ax.plot(df.body2_dim0, df.body2_dim1, df.body2_dim2, alpha=0.35, color=\"#F0FFFF\")\n",
    "    dots1, = ax.plot(df.body0_dim0[0], df.body0_dim1[0], df.body0_dim2[0], marker=\"o\",linestyle='', \n",
    "                    markersize=12, color=\"#FFFFF0\")\n",
    "    dots2, = ax.plot(df.body1_dim0[0], df.body1_dim1[0], df.body1_dim2[0], marker=\"o\",linestyle='', \n",
    "                    markersize=12, color=\"#FFFFCB\")\n",
    "    dots3, = ax.plot(df.body2_dim0[0], df.body2_dim1[0], df.body2_dim2[0], marker=\"o\",linestyle='', \n",
    "                    markersize=12, color=\"#F0FFFF\")\n",
    "\n",
    "    ani = animation.FuncAnimation(fig, update_graph, 700, \n",
    "                                             fargs=(df, graph1, graph2, graph3, \n",
    "                                            dots1, dots2, dots3), \n",
    "                                            interval=500, blit=True)\n",
    "\n",
    "    ani.save(file_pathname, writer='imagemagick', fps=24)\n",
    "\n",
    "    #plt.show()"
   ]
  },
  {
   "cell_type": "code",
   "execution_count": null,
   "id": "2a9f0d94",
   "metadata": {},
   "outputs": [],
   "source": []
  }
 ],
 "metadata": {
  "kernelspec": {
   "display_name": "Python 3",
   "language": "python",
   "name": "python3"
  },
  "language_info": {
   "codemirror_mode": {
    "name": "ipython",
    "version": 3
   },
   "file_extension": ".py",
   "mimetype": "text/x-python",
   "name": "python",
   "nbconvert_exporter": "python",
   "pygments_lexer": "ipython3",
   "version": "3.9.5"
  }
 },
 "nbformat": 4,
 "nbformat_minor": 5
}
